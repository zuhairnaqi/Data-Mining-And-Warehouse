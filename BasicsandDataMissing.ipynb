{
 "cells": [
  {
   "cell_type": "code",
   "execution_count": 52,
   "metadata": {},
   "outputs": [
    {
     "name": "stdout",
     "output_type": "stream",
     "text": [
      "[[0.28492925 0.67455844 0.04117189 0.8594237 ]\n",
      " [0.62729872 0.02591369 0.50651066 0.15890698]\n",
      " [0.68484676 0.94804394 0.47680003 0.3027419 ]]\n",
      "         c1        c2        c3        c4\n",
      "1  0.284929  0.674558  0.041172  0.859424\n",
      "2  0.627299  0.025914  0.506511  0.158907\n",
      "3  0.684847  0.948044  0.476800  0.302742\n",
      "---------------- Line Break ---------------------\n",
      "         c1        c2        c3        c4\n",
      "1  0.284929  0.674558  0.041172  0.859424\n",
      "4       NaN       NaN       NaN       NaN\n",
      "2  0.627299  0.025914  0.506511  0.158907\n",
      "3  0.684847  0.948044  0.476800  0.302742\n",
      "---------------- Line Break ---------------------\n",
      "1    False\n",
      "4     True\n",
      "2    False\n",
      "3    False\n",
      "Name: c2, dtype: bool\n",
      "   c1  c2  c3  c4\n",
      "4 NaN NaN NaN NaN\n",
      "---------------- Line Break ---------------------\n",
      "1     0.674558\n",
      "4       Zuhair\n",
      "2    0.0259137\n",
      "3     0.948044\n",
      "Name: c2, dtype: object\n",
      "---------------- Line Break ---------------------\n",
      "1    0.284929\n",
      "2    0.627299\n",
      "3    0.684847\n",
      "Name: c1, dtype: float64\n",
      "---------------- Line Break ---------------------\n",
      "c1\n",
      "c2\n",
      "c3\n",
      "c4\n"
     ]
    }
   ],
   "source": [
    "# list = [2, 10, 15]\n",
    "# length = len(list)\n",
    "# index = 0\n",
    "# while(index < length):\n",
    "#     print(list[index])\n",
    "#     index += 1 \n",
    "# else:\n",
    "#     print('while else part is running')\n",
    "\n",
    "\n",
    "\n",
    "# for listItem in list:\n",
    "#     print(listItem, index)\n",
    "# else:\n",
    "#     print('else runs')\n",
    "\n",
    "# Tuple\n",
    "# cities = ('Karachi', 'Lahore', 'Islamabad', 'Karachi')\n",
    "# print(cities[0:2])\n",
    "# print(cities.count('Karachi'))\n",
    "# print(cities.rfind('Karachi'))\n",
    "\n",
    "\n",
    "\n",
    "import pandas as pd\n",
    "import numpy as np\n",
    "data = np.random.rand(3, 4) # row, column\n",
    "print(data)\n",
    "dataFrame = pd.DataFrame(data, index=[1, 2, 3], columns=['c1','c2','c3','c4'])\n",
    "print(dataFrame)\n",
    "\n",
    "print(\"---------------- Line Break ---------------------\")\n",
    "\n",
    "\n",
    "\n",
    "# Data frame 2\n",
    "#Adding null values to d f\n",
    "newFrame =  dataFrame.reindex([1, 4, 2, 3])\n",
    "print(newFrame)\n",
    "print(\"---------------- Line Break ---------------------\")\n",
    "\n",
    "\n",
    "# Check if value of coloum is null\n",
    "print(newFrame['c2'].isnull())\n",
    "print(newFrame[newFrame['c2'].isnull()])\n",
    "\n",
    "print(\"---------------- Line Break ---------------------\")\n",
    "\n",
    "\n",
    "\n",
    "# Replace missing data\n",
    "print(newFrame['c2'].fillna(\"Zuhair\"))\n",
    "\n",
    "print(\"---------------- Line Break ---------------------\")\n",
    "\n",
    "\n",
    "#Drop missing data\n",
    "print(newFrame['c1'].dropna())\n",
    "\n",
    "print(\"---------------- Line Break ---------------------\")\n",
    "for col in newFrame:\n",
    "    print(col)"
   ]
  },
  {
   "cell_type": "code",
   "execution_count": 1,
   "metadata": {},
   "outputs": [
    {
     "ename": "NameError",
     "evalue": "name 'newFrame' is not defined",
     "output_type": "error",
     "traceback": [
      "\u001b[1;31m---------------------------------------------------------------------------\u001b[0m",
      "\u001b[1;31mNameError\u001b[0m                                 Traceback (most recent call last)",
      "\u001b[1;32m<ipython-input-1-57cafce23ab9>\u001b[0m in \u001b[0;36m<module>\u001b[1;34m\u001b[0m\n\u001b[0;32m      1\u001b[0m \u001b[1;31m#Fill the null data in columns with specific value\u001b[0m\u001b[1;33m\u001b[0m\u001b[1;33m\u001b[0m\u001b[1;33m\u001b[0m\u001b[0m\n\u001b[1;32m----> 2\u001b[1;33m \u001b[1;32mfor\u001b[0m \u001b[0mcol\u001b[0m \u001b[1;32min\u001b[0m \u001b[0mnewFrame\u001b[0m\u001b[1;33m:\u001b[0m\u001b[1;33m\u001b[0m\u001b[1;33m\u001b[0m\u001b[0m\n\u001b[0m\u001b[0;32m      3\u001b[0m     \u001b[0mnewFrame\u001b[0m\u001b[1;33m[\u001b[0m\u001b[0mcol\u001b[0m\u001b[1;33m]\u001b[0m \u001b[1;33m=\u001b[0m \u001b[0mnewFrame\u001b[0m\u001b[1;33m[\u001b[0m\u001b[0mcol\u001b[0m\u001b[1;33m]\u001b[0m\u001b[1;33m.\u001b[0m\u001b[0mfillna\u001b[0m\u001b[1;33m(\u001b[0m\u001b[1;34m'filled'\u001b[0m\u001b[1;33m)\u001b[0m\u001b[1;33m\u001b[0m\u001b[1;33m\u001b[0m\u001b[0m\n\u001b[0;32m      4\u001b[0m \u001b[0mprint\u001b[0m\u001b[1;33m(\u001b[0m\u001b[0mnewFrame\u001b[0m\u001b[1;33m)\u001b[0m\u001b[1;33m\u001b[0m\u001b[1;33m\u001b[0m\u001b[0m\n",
      "\u001b[1;31mNameError\u001b[0m: name 'newFrame' is not defined"
     ]
    }
   ],
   "source": [
    "#Fill the null data in columns with specific value\n",
    "for col in newFrame:\n",
    "    newFrame[col] = newFrame[col].fillna('filled')\n",
    "print(newFrame)\n"
   ]
  },
  {
   "cell_type": "code",
   "execution_count": null,
   "metadata": {},
   "outputs": [],
   "source": []
  }
 ],
 "metadata": {
  "kernelspec": {
   "display_name": "Python 3",
   "language": "python",
   "name": "python3"
  },
  "language_info": {
   "codemirror_mode": {
    "name": "ipython",
    "version": 3
   },
   "file_extension": ".py",
   "mimetype": "text/x-python",
   "name": "python",
   "nbconvert_exporter": "python",
   "pygments_lexer": "ipython3",
   "version": "3.8.3"
  }
 },
 "nbformat": 4,
 "nbformat_minor": 4
}
