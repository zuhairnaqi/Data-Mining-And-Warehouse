{
 "cells": [
  {
   "cell_type": "code",
   "execution_count": 11,
   "metadata": {},
   "outputs": [
    {
     "name": "stdout",
     "output_type": "stream",
     "text": [
      "[0, 4, 7]\n"
     ]
    }
   ],
   "source": [
    "# find indexes of repeated element\n",
    "list = ['a', 'b', 'c', 'd', 'a', 'e', 'f', 'a']\n",
    "searchValue = 'a'\n",
    "indexes = []\n",
    "count = 0\n",
    "length = len(list)\n",
    "\n",
    "def findIndex():\n",
    "    global count\n",
    "    if count == length:\n",
    "        return;\n",
    "    elif list[count] == searchValue:\n",
    "        indexes.append(count)\n",
    "    count += 1\n",
    "    findIndex()\n",
    "    \n",
    "findIndex()\n",
    "print(indexes)\n"
   ]
  },
  {
   "cell_type": "code",
   "execution_count": null,
   "metadata": {},
   "outputs": [],
   "source": []
  }
 ],
 "metadata": {
  "kernelspec": {
   "display_name": "Python 3",
   "language": "python",
   "name": "python3"
  },
  "language_info": {
   "codemirror_mode": {
    "name": "ipython",
    "version": 3
   },
   "file_extension": ".py",
   "mimetype": "text/x-python",
   "name": "python",
   "nbconvert_exporter": "python",
   "pygments_lexer": "ipython3",
   "version": "3.8.3"
  }
 },
 "nbformat": 4,
 "nbformat_minor": 4
}
