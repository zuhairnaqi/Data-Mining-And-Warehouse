{
 "cells": [
  {
   "cell_type": "code",
   "execution_count": 2,
   "metadata": {},
   "outputs": [
    {
     "name": "stdout",
     "output_type": "stream",
     "text": [
      "Confusion Matrix : [[3 3]\n",
      " [1 3]]\n"
     ]
    }
   ],
   "source": [
    "from sklearn.metrics import confusion_matrix\n",
    "from sklearn.metrics import accuracy_score\n",
    "from sklearn.metrics import classification_report\n",
    "from sklearn.metrics import roc_auc_score\n",
    "from sklearn.metrics import log_loss\n",
    "\n",
    "X_actual = [1, 1, 0, 1, 0, 0, 1, 0, 0, 0]\n",
    "Y_predic = [1, 0, 1, 1, 1, 0, 1, 1, 0, 0]\n",
    "\n",
    "results = confusion_matrix(X_actual, Y_predic)\n",
    "print ('Confusion Matrix :', results)"
   ]
  },
  {
   "cell_type": "code",
   "execution_count": 3,
   "metadata": {},
   "outputs": [
    {
     "name": "stdout",
     "output_type": "stream",
     "text": [
      "Accuracy Score is 0.6\n",
      "Classification Report : \n",
      "              precision    recall  f1-score   support\n",
      "\n",
      "           0       0.75      0.50      0.60         6\n",
      "           1       0.50      0.75      0.60         4\n",
      "\n",
      "    accuracy                           0.60        10\n",
      "   macro avg       0.62      0.62      0.60        10\n",
      "weighted avg       0.65      0.60      0.60        10\n",
      "\n",
      "AUC-ROC: 0.625\n",
      "LOGLOSS Value is 13.815750437193334\n"
     ]
    }
   ],
   "source": [
    "print ('Accuracy Score is',accuracy_score(X_actual, Y_predic))\n",
    "print ('Classification Report : ')\n",
    "print (classification_report(X_actual, Y_predic))\n",
    "print('AUC-ROC:',roc_auc_score(X_actual, Y_predic))\n",
    "print('LOGLOSS Value is',log_loss(X_actual, Y_predic))"
   ]
  },
  {
   "cell_type": "code",
   "execution_count": 4,
   "metadata": {},
   "outputs": [],
   "source": [
    "X_actual = [1, 0, 1, 0, 1, 0, 1, 1, 0, 0,\n",
    " 1, 1, 0, 1, 0, 1, 1, 0, 1, 1,\n",
    " 1, 1, 1, 1, 0, 0, 1, 0, 0, 0,\n",
    " 1, 0, 0, 1, 1, 1, 1, 1, 1, 1,\n",
    " 1, 1, 0, 1, 0, 0, 1, 0, 0, 0,\n",
    " 1, 1, 0, 1, 0, 1, 1, 0, 1, 1,\n",
    " 1, 1, 1, 1, 0, 0, 1, 0, 0, 0,\n",
    " 1, 1, 0, 1, 1, 1, 1, 1, 1, 1,\n",
    " 1, 1, 0, 1, 0, 0, 1, 0, 0, 0,\n",
    " 1, 1, 0, 1, 0, 1, 1, 0, 1, 1,\n",
    " 1, 1, 1, 1, 0, 0, 1, 0, 0, 0,\n",
    " 1, 1, 0, 1, 1, 1, 1, 1, 1, 1,\n",
    " 1, 1, 1, 1, 1, 0, 1, 0, 0, 0,\n",
    " 1, 0, 0, 1, 0, 1, 1, 0, 1, 1,\n",
    " 1, 1, 1, 1, 0, 0, 1, 0, 0, 1,\n",
    " 1, 0, 0, 1, 1, 1, 1, 1, 1, 1,\n",
    " 1, 1, 1, 1, 0]"
   ]
  },
  {
   "cell_type": "code",
   "execution_count": 5,
   "metadata": {},
   "outputs": [],
   "source": [
    "Y_predic = [1, 1, 1, 0, 1, 0, 1, 1, 0, 0,\n",
    " 1, 0, 1, 1, 0, 1, 1, 0, 1, 1,\n",
    " 1, 1, 1, 1, 0, 0, 1, 0, 0, 0,\n",
    " 1, 1, 0, 1, 1, 1, 1, 1, 1, 1,\n",
    " 1, 0, 0, 1, 0, 0, 1, 0, 0, 0,\n",
    " 1, 0, 0, 1, 0, 1, 1, 0, 1, 1,\n",
    " 1, 1, 1, 1, 0, 0, 1, 0, 0, 0,\n",
    " 1, 0, 0, 1, 1, 1, 1, 1, 1, 1,\n",
    " 1, 1, 0, 1, 0, 1, 1, 0, 0, 0,\n",
    " 1, 1, 0, 1, 0, 1, 1, 1, 1, 1,\n",
    " 1, 1, 1, 1, 0, 0, 1, 0, 0, 0,\n",
    " 1, 0, 0, 1, 1, 1, 1, 1, 1, 1,\n",
    " 1, 1, 1, 1, 1, 1, 1, 1, 0, 0,\n",
    " 1, 1, 0, 1, 0, 1, 1, 0, 1, 1,\n",
    " 1, 1, 1, 1, 0, 0, 1, 1, 0, 1,\n",
    " 1, 1, 0, 1, 1, 1, 1, 1, 1, 1,\n",
    " 1, 1, 1, 1, 0]"
   ]
  },
  {
   "cell_type": "code",
   "execution_count": 6,
   "metadata": {},
   "outputs": [
    {
     "name": "stdout",
     "output_type": "stream",
     "text": [
      "Confusion Matrix\n",
      "[[ 50  10]\n",
      " [  5 100]]\n"
     ]
    }
   ],
   "source": [
    "results = confusion_matrix(X_actual, Y_predic)\n",
    "print ('Confusion Matrix')\n",
    "print(results)"
   ]
  },
  {
   "cell_type": "code",
   "execution_count": 7,
   "metadata": {},
   "outputs": [
    {
     "name": "stdout",
     "output_type": "stream",
     "text": [
      "Accuracy Score is 0.9090909090909091\n",
      "Classification Report : \n",
      "              precision    recall  f1-score   support\n",
      "\n",
      "           0       0.91      0.83      0.87        60\n",
      "           1       0.91      0.95      0.93       105\n",
      "\n",
      "    accuracy                           0.91       165\n",
      "   macro avg       0.91      0.89      0.90       165\n",
      "weighted avg       0.91      0.91      0.91       165\n",
      "\n"
     ]
    }
   ],
   "source": [
    "print ('Accuracy Score is',accuracy_score(X_actual, Y_predic))\n",
    "print ('Classification Report : ')\n",
    "print (classification_report(X_actual, Y_predic))"
   ]
  },
  {
   "cell_type": "code",
   "execution_count": null,
   "metadata": {},
   "outputs": [],
   "source": []
  }
 ],
 "metadata": {
  "kernelspec": {
   "display_name": "Python 3",
   "language": "python",
   "name": "python3"
  },
  "language_info": {
   "codemirror_mode": {
    "name": "ipython",
    "version": 3
   },
   "file_extension": ".py",
   "mimetype": "text/x-python",
   "name": "python",
   "nbconvert_exporter": "python",
   "pygments_lexer": "ipython3",
   "version": "3.8.3"
  }
 },
 "nbformat": 4,
 "nbformat_minor": 4
}
