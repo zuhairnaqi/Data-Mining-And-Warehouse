{
 "cells": [
  {
   "cell_type": "code",
   "execution_count": 4,
   "metadata": {},
   "outputs": [
    {
     "name": "stdout",
     "output_type": "stream",
     "text": [
      "[[0.3857201  0.465476   0.07190713 0.90717523]\n",
      " [0.62400624 0.76970064 0.44919913 0.44680153]\n",
      " [0.21054095 0.37881681 0.08590543 0.46644336]]\n"
     ]
    }
   ],
   "source": [
    "import pandas as pd\n",
    "import numpy as np\n",
    "\n",
    "data = np.random.rand(3, 4) # row, column\n",
    "print(data)"
   ]
  },
  {
   "cell_type": "code",
   "execution_count": 5,
   "metadata": {},
   "outputs": [
    {
     "name": "stdout",
     "output_type": "stream",
     "text": [
      "         c1        c2        c3        c4\n",
      "1  0.385720  0.465476  0.071907  0.907175\n",
      "2  0.624006  0.769701  0.449199  0.446802\n",
      "3  0.210541  0.378817  0.085905  0.466443\n"
     ]
    }
   ],
   "source": [
    "dataFrame = pd.DataFrame(data, index=[1, 2, 3], columns=['c1','c2','c3','c4'])\n",
    "print(dataFrame)"
   ]
  },
  {
   "cell_type": "code",
   "execution_count": 6,
   "metadata": {},
   "outputs": [
    {
     "name": "stdout",
     "output_type": "stream",
     "text": [
      "         c1        c2        c3        c4\n",
      "1  0.385720  0.465476  0.071907  0.907175\n",
      "4       NaN       NaN       NaN       NaN\n",
      "2  0.624006  0.769701  0.449199  0.446802\n",
      "3  0.210541  0.378817  0.085905  0.466443\n"
     ]
    }
   ],
   "source": [
    "# Data frame 2\n",
    "# Arranging index and adding new rows with null values\n",
    "newFrame =  dataFrame.reindex([1, 4, 2, 3])\n",
    "print(newFrame)"
   ]
  },
  {
   "cell_type": "code",
   "execution_count": 7,
   "metadata": {},
   "outputs": [
    {
     "name": "stdout",
     "output_type": "stream",
     "text": [
      "1    False\n",
      "4     True\n",
      "2    False\n",
      "3    False\n",
      "Name: c2, dtype: bool\n",
      "   c1  c2  c3  c4\n",
      "4 NaN NaN NaN NaN\n"
     ]
    }
   ],
   "source": [
    "# Check if value of coloum is null\n",
    "print(newFrame['c2'].isnull())\n",
    "print(newFrame[newFrame['c2'].isnull()])"
   ]
  },
  {
   "cell_type": "code",
   "execution_count": 8,
   "metadata": {},
   "outputs": [
    {
     "name": "stdout",
     "output_type": "stream",
     "text": [
      "1    0.465476\n",
      "4      Zuhair\n",
      "2    0.769701\n",
      "3    0.378817\n",
      "Name: c2, dtype: object\n"
     ]
    }
   ],
   "source": [
    "# Replace missing data\n",
    "print(newFrame['c2'].fillna(\"Zuhair\"))"
   ]
  },
  {
   "cell_type": "code",
   "execution_count": 9,
   "metadata": {},
   "outputs": [
    {
     "name": "stdout",
     "output_type": "stream",
     "text": [
      "1    0.385720\n",
      "2    0.624006\n",
      "3    0.210541\n",
      "Name: c1, dtype: float64\n"
     ]
    }
   ],
   "source": [
    "#Drop missing data\n",
    "print(newFrame['c1'].dropna())"
   ]
  },
  {
   "cell_type": "code",
   "execution_count": 10,
   "metadata": {},
   "outputs": [
    {
     "name": "stdout",
     "output_type": "stream",
     "text": [
      "         c1        c2         c3        c4\n",
      "1   0.38572  0.465476  0.0719071  0.907175\n",
      "4    filled    filled     filled    filled\n",
      "2  0.624006  0.769701   0.449199  0.446802\n",
      "3  0.210541  0.378817  0.0859054  0.466443\n"
     ]
    }
   ],
   "source": [
    "#Fill the null data in columns with specific value\n",
    "for col in newFrame:\n",
    "    newFrame[col] = newFrame[col].fillna('filled')\n",
    "print(newFrame)"
   ]
  },
  {
   "cell_type": "code",
   "execution_count": 12,
   "metadata": {},
   "outputs": [
    {
     "name": "stdout",
     "output_type": "stream",
     "text": [
      "               c1        c2         c3        c4\n",
      "1         0.38572  0.465476  0.0719071  0.907175\n",
      "4          filled    filled     filled    filled\n",
      "2  Specific value  0.769701   0.449199  0.446802\n",
      "3        0.210541  0.378817  0.0859054  0.466443\n"
     ]
    }
   ],
   "source": [
    "# Change specific column index\n",
    "newFrame['c1'][2] = 'Specific value'\n",
    "print(newFrame)"
   ]
  },
  {
   "cell_type": "code",
   "execution_count": 13,
   "metadata": {},
   "outputs": [
    {
     "name": "stdout",
     "output_type": "stream",
     "text": [
      "               c1        c2         c3        c4\n",
      "1         0.38572  0.465476  0.0719071  0.907175\n",
      "4         replace   replace    replace   replace\n",
      "2  Specific value  0.769701   0.449199  0.446802\n",
      "3        0.210541  0.378817  0.0859054  0.466443\n"
     ]
    }
   ],
   "source": [
    "# Replace specific value\n",
    "print(newFrame.replace('filled', 'replace'))"
   ]
  },
  {
   "cell_type": "code",
   "execution_count": null,
   "metadata": {},
   "outputs": [],
   "source": []
  }
 ],
 "metadata": {
  "kernelspec": {
   "display_name": "Python 3",
   "language": "python",
   "name": "python3"
  },
  "language_info": {
   "codemirror_mode": {
    "name": "ipython",
    "version": 3
   },
   "file_extension": ".py",
   "mimetype": "text/x-python",
   "name": "python",
   "nbconvert_exporter": "python",
   "pygments_lexer": "ipython3",
   "version": "3.8.3"
  }
 },
 "nbformat": 4,
 "nbformat_minor": 4
}
